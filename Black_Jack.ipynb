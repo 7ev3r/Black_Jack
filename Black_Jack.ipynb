{
 "cells": [
  {
   "cell_type": "markdown",
   "metadata": {},
   "source": [
    "BLACK JACK (by noob for testing) "
   ]
  },
  {
   "cell_type": "code",
   "execution_count": null,
   "metadata": {},
   "outputs": [],
   "source": [
    "import random\n",
    "\n",
    "random.seed()\n",
    "\n",
    "class BlackJack:\n",
    "    def __init__(self):\n",
    "        self.deck = [2, 3, 4, 5, 6, 7, 8, 9, 10, 'Jack', 'Queen', 'King', 'Ace'] * 4\n",
    "        self.score = 0\n",
    "        self.dealer_score = 0\n",
    "\n",
    "    def print_card(self, current, score, bot):\n",
    "        if not bot:\n",
    "            print(f'U got card {current}. U have {score} points.')\n",
    "        else:\n",
    "            print(f'Dealer got card {current}. dealer got {score} points')\n",
    "\n",
    "    def random_card(self, score, bot):\n",
    "        current = self.deck.pop()\n",
    "        if type(current) is int:\n",
    "            score += current\n",
    "        elif current == 'Ace':\n",
    "            if score <= 10:\n",
    "                score += 11\n",
    "            else:\n",
    "                score += 1\n",
    "        else:\n",
    "            score += 10\n",
    "        self.print_card(current, score, bot)\n",
    "        return score\n",
    "\n",
    "    def choice(self):\n",
    "        score = self.random_card(self.score, False)\n",
    "        dealer_score = self.random_card(self.dealer_score, True)\n",
    "        while True:\n",
    "            choice = input('ask for another card ?  y/n\\n')\n",
    "            if choice == 'y':\n",
    "                score = self.random_card(score, False)\n",
    "                if dealer_score < 19 and score <= 21:\n",
    "                    dealer_score = self.random_card(dealer_score, True)\n",
    "                if score > 21 or dealer_score == 21:\n",
    "                    print('Sorry, you loose')\n",
    "                    break\n",
    "                elif score == 21 and dealer_score == 21:\n",
    "                    print('stand off')\n",
    "                elif score == 21 or dealer_score > 21:\n",
    "                    print('Grats, you WIN !')\n",
    "                    break\n",
    "            elif choice == 'n':\n",
    "                if score > dealer_score and dealer_score < 19:\n",
    "                    while dealer_score < 19:\n",
    "                        dealer_score = self.random_card(dealer_score, True)\n",
    "                if score < dealer_score <= 21:\n",
    "                    print(f'You loose, u got {score} points, dealer got {dealer_score} points')\n",
    "                else:\n",
    "                    print(f'You WIN, u got {score} points, dealer got {dealer_score} points')\n",
    "\n",
    "                break\n",
    "\n",
    "    def start(self):\n",
    "        random.shuffle(self.deck)\n",
    "        print('BlackJack game begins')\n",
    "        print('In blackjack, tens, jacks, queens and kings are worth 10 points each.\\nAce can be worth 1 or 11 points')\n",
    "        print('----------------------------------')\n",
    "        self.choice()\n",
    "\n",
    "        print('Try again !')\n",
    "\n",
    "\n",
    "game = BlackJack()\n",
    "game.start()"
   ]
  }
 ],
 "metadata": {
  "kernelspec": {
   "display_name": "Python 3.10.7 ('venv')",
   "language": "python",
   "name": "python3"
  },
  "language_info": {
   "codemirror_mode": {
    "name": "ipython",
    "version": 3
   },
   "file_extension": ".py",
   "mimetype": "text/x-python",
   "name": "python",
   "nbconvert_exporter": "python",
   "pygments_lexer": "ipython3",
   "version": "3.10.7"
  },
  "orig_nbformat": 4,
  "vscode": {
   "interpreter": {
    "hash": "c57352f412fc7dc8cf9bf1ecaa6686bf1cf21ed9397e77079ec598047c53ddc0"
   }
  }
 },
 "nbformat": 4,
 "nbformat_minor": 2
}
